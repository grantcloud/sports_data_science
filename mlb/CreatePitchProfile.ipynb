{
 "cells": [
  {
   "cell_type": "markdown",
   "metadata": {},
   "source": [
    "# How to Create a Pitch Profile with Python\n",
    "## Grant Cloud\n",
    "<p>This is a short tutorial on how to create a pitch profile with Python if you have horizontal break and induced vertical break for a set of pitches for a given pitcher</p>"
   ]
  },
  {
   "cell_type": "markdown",
   "metadata": {},
   "source": [
    "<p>imports</p>"
   ]
  },
  {
   "cell_type": "code",
   "execution_count": 1,
   "metadata": {},
   "outputs": [],
   "source": [
    "import pandas as pd\n",
    "import seaborn as sns\n",
    "import matplotlib.pyplot as plt"
   ]
  },
  {
   "cell_type": "markdown",
   "metadata": {},
   "source": [
    "<p>load the data</p>"
   ]
  },
  {
   "cell_type": "code",
   "execution_count": 2,
   "metadata": {},
   "outputs": [
    {
     "data": {
      "text/html": [
       "<div>\n",
       "<style scoped>\n",
       "    .dataframe tbody tr th:only-of-type {\n",
       "        vertical-align: middle;\n",
       "    }\n",
       "\n",
       "    .dataframe tbody tr th {\n",
       "        vertical-align: top;\n",
       "    }\n",
       "\n",
       "    .dataframe thead th {\n",
       "        text-align: right;\n",
       "    }\n",
       "</style>\n",
       "<table border=\"1\" class=\"dataframe\">\n",
       "  <thead>\n",
       "    <tr style=\"text-align: right;\">\n",
       "      <th></th>\n",
       "      <th>PitchType</th>\n",
       "      <th>HorzBreak</th>\n",
       "      <th>InducedVertBreak</th>\n",
       "      <th>Pitcher</th>\n",
       "    </tr>\n",
       "  </thead>\n",
       "  <tbody>\n",
       "    <tr>\n",
       "      <td>0</td>\n",
       "      <td>Fastball</td>\n",
       "      <td>-10.330821</td>\n",
       "      <td>14.487381</td>\n",
       "      <td>pitcher1</td>\n",
       "    </tr>\n",
       "    <tr>\n",
       "      <td>1</td>\n",
       "      <td>Fastball</td>\n",
       "      <td>-10.881880</td>\n",
       "      <td>19.468425</td>\n",
       "      <td>pitcher1</td>\n",
       "    </tr>\n",
       "    <tr>\n",
       "      <td>2</td>\n",
       "      <td>Fastball</td>\n",
       "      <td>-12.345915</td>\n",
       "      <td>19.975988</td>\n",
       "      <td>pitcher1</td>\n",
       "    </tr>\n",
       "    <tr>\n",
       "      <td>3</td>\n",
       "      <td>Curveball</td>\n",
       "      <td>17.236360</td>\n",
       "      <td>-10.992241</td>\n",
       "      <td>pitcher1</td>\n",
       "    </tr>\n",
       "    <tr>\n",
       "      <td>4</td>\n",
       "      <td>Curveball</td>\n",
       "      <td>17.979088</td>\n",
       "      <td>-3.596740</td>\n",
       "      <td>pitcher1</td>\n",
       "    </tr>\n",
       "  </tbody>\n",
       "</table>\n",
       "</div>"
      ],
      "text/plain": [
       "   PitchType  HorzBreak  InducedVertBreak   Pitcher\n",
       "0   Fastball -10.330821         14.487381  pitcher1\n",
       "1   Fastball -10.881880         19.468425  pitcher1\n",
       "2   Fastball -12.345915         19.975988  pitcher1\n",
       "3  Curveball  17.236360        -10.992241  pitcher1\n",
       "4  Curveball  17.979088         -3.596740  pitcher1"
      ]
     },
     "execution_count": 2,
     "metadata": {},
     "output_type": "execute_result"
    }
   ],
   "source": [
    "df = pd.read_csv('data/sample_pitch_profile_data.csv')\n",
    "df.head(5) # this line is just to preview the data"
   ]
  },
  {
   "cell_type": "markdown",
   "metadata": {},
   "source": [
    "<p>creating a dataframe with only fastballs</p>"
   ]
  },
  {
   "cell_type": "code",
   "execution_count": 3,
   "metadata": {},
   "outputs": [
    {
     "name": "stdout",
     "output_type": "stream",
     "text": [
      "Number of fastballs tracked: 311\n"
     ]
    }
   ],
   "source": [
    "tempdf = df[df['PitchType'] == 'Fastball']\n",
    "print('Number of fastballs tracked: {}'.format(tempdf.shape[0]))"
   ]
  },
  {
   "cell_type": "markdown",
   "metadata": {},
   "source": [
    "<p>creating the pitch profile with horizontal and vertical distributions to show profile consistency</p>"
   ]
  },
  {
   "cell_type": "code",
   "execution_count": 4,
   "metadata": {},
   "outputs": [
    {
     "name": "stderr",
     "output_type": "stream",
     "text": [
      "C:\\Users\\gcloud3\\Anaconda\\lib\\site-packages\\scipy\\stats\\stats.py:1713: FutureWarning: Using a non-tuple sequence for multidimensional indexing is deprecated; use `arr[tuple(seq)]` instead of `arr[seq]`. In the future this will be interpreted as an array index, `arr[np.array(seq)]`, which will result either in an error or a different result.\n",
      "  return np.add.reduce(sorted[indexer] * weights, axis=axis) / sumval\n"
     ]
    },
    {
     "data": {
      "image/png": "[encoded data removed]",
      "text/plain": [
       "<Figure size 432x432 with 3 Axes>"
      ]
     },
     "metadata": {},
     "output_type": "display_data"
    }
   ],
   "source": [
    "with sns.axes_style('white'):\n",
    "        plot = sns.jointplot('HorzBreak', 'InducedVertBreak', tempdf, \n",
    "                             kind='kde', xlim=(-25,25),ylim=(-25,25))\n",
    "        plot.ax_joint.axvline(x=0)\n",
    "        plot.ax_joint.axhline(y=0)\n",
    "        plt.show()"
   ]
  },
  {
   "cell_type": "markdown",
   "metadata": {},
   "source": [
    "<p>creating a new pitch profile for this pitcher's curveball</p>"
   ]
  },
  {
   "cell_type": "code",
   "execution_count": 5,
   "metadata": {},
   "outputs": [
    {
     "name": "stdout",
     "output_type": "stream",
     "text": [
      "Number of curveballs tracked: 121\n"
     ]
    }
   ],
   "source": [
    "tempdf = df[df['PitchType'] == 'Curveball']\n",
    "print('Number of curveballs tracked: {}'.format(tempdf.shape[0]))"
   ]
  },
  {
   "cell_type": "code",
   "execution_count": 6,
   "metadata": {},
   "outputs": [
    {
     "data": {
      "image/png": "[encoded data removed]",
      "text/plain": [
       "<Figure size 432x432 with 3 Axes>"
      ]
     },
     "metadata": {},
     "output_type": "display_data"
    }
   ],
   "source": [
    "with sns.axes_style('white'):\n",
    "        plot = sns.jointplot('HorzBreak', 'InducedVertBreak', tempdf, \n",
    "                             kind='kde', xlim=(-25,25),ylim=(-25,25))\n",
    "        plot.ax_joint.axvline(x=0)\n",
    "        plot.ax_joint.axhline(y=0)\n",
    "        plt.show()"
   ]
  },
  {
   "cell_type": "code",
   "execution_count": null,
   "metadata": {},
   "outputs": [],
   "source": []
  }
 ],
 "metadata": {
  "kernelspec": {
   "display_name": "Python 3",
   "language": "python",
   "name": "python3"
  },
  "language_info": {
   "codemirror_mode": {
    "name": "ipython",
    "version": 3
   },
   "file_extension": ".py",
   "mimetype": "text/x-python",
   "name": "python",
   "nbconvert_exporter": "python",
   "pygments_lexer": "ipython3",
   "version": "3.7.1"
  }
 },
 "nbformat": 4,
 "nbformat_minor": 2
}
