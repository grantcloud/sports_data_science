{
 "cells": [
  {
   "cell_type": "markdown",
   "metadata": {},
   "source": [
    "# NFL Scores and Betting Data\n",
    "## Grant Cloud"
   ]
  },
  {
   "cell_type": "code",
   "execution_count": 1,
   "metadata": {},
   "outputs": [],
   "source": [
    "import pandas as pd\n",
    "import numpy as np\n",
    "import seaborn as sns\n",
    "import matplotlib.pyplot as plt\n",
    "from helpers import vis_null"
   ]
  },
  {
   "cell_type": "code",
   "execution_count": null,
   "metadata": {},
   "outputs": [],
   "source": [
    "df = pd.read_csv('data/nfl_spread_covers.csv')"
   ]
  },
  {
   "cell_type": "code",
   "execution_count": 18,
   "metadata": {},
   "outputs": [],
   "source": [
    "# calculate confusion matrix of cover    \n",
    "def calc_cover(row):\n",
    "    if row.favorite == row.team_home:\n",
    "        diff = (row.score_home + row.spread_favorite) - row.score_away\n",
    "        if diff > 0:\n",
    "            return 'home_favorite'\n",
    "        elif diff < 0:\n",
    "            return 'away_underdog'\n",
    "        else:\n",
    "            return 'push'\n",
    "    elif row.favorite == row.team_away:\n",
    "        diff = row.score_home - (row.score_away + row.spread_favorite)\n",
    "        if diff > 0:\n",
    "            return 'home_underdog'\n",
    "        elif diff < 0:\n",
    "            return 'away_favorite'\n",
    "        else:\n",
    "            return 'push'"
   ]
  },
  {
   "cell_type": "code",
   "execution_count": 19,
   "metadata": {},
   "outputs": [],
   "source": [
    "df['cover'] = df.apply(calc_cover, axis=1)"
   ]
  },
  {
   "cell_type": "code",
   "execution_count": 20,
   "metadata": {},
   "outputs": [
    {
     "data": {
      "text/plain": [
       "push    21\n",
       "Name: cover, dtype: int64"
      ]
     },
     "execution_count": 20,
     "metadata": {},
     "output_type": "execute_result"
    }
   ],
   "source": [
    "# num pushes for home team favorites\n",
    "df[(df.favorite == df.team_home)&(((df.score_home + df.spread_favorite) - df.score_away) == 0)].cover.value_counts()"
   ]
  },
  {
   "cell_type": "code",
   "execution_count": 21,
   "metadata": {},
   "outputs": [
    {
     "data": {
      "text/plain": [
       "push    16\n",
       "Name: cover, dtype: int64"
      ]
     },
     "execution_count": 21,
     "metadata": {},
     "output_type": "execute_result"
    }
   ],
   "source": [
    "# num pushes for away team favorites\n",
    "df[(df.favorite == df.team_away)&((df.score_home - (df.score_away + df.spread_favorite)) == 0)].cover.value_counts()"
   ]
  },
  {
   "cell_type": "code",
   "execution_count": 22,
   "metadata": {},
   "outputs": [
    {
     "data": {
      "text/plain": [
       "away_underdog    320\n",
       "home_favorite    299\n",
       "away_favorite    171\n",
       "home_underdog    170\n",
       "push              37\n",
       "Name: cover, dtype: int64"
      ]
     },
     "execution_count": 22,
     "metadata": {},
     "output_type": "execute_result"
    }
   ],
   "source": [
    "df.cover.value_counts()"
   ]
  },
  {
   "cell_type": "code",
   "execution_count": 23,
   "metadata": {},
   "outputs": [
    {
     "data": {
      "text/plain": [
       "(1024, 12)"
      ]
     },
     "execution_count": 23,
     "metadata": {},
     "output_type": "execute_result"
    }
   ],
   "source": [
    "df.shape"
   ]
  },
  {
   "cell_type": "code",
   "execution_count": 24,
   "metadata": {},
   "outputs": [],
   "source": [
    "# create confusion matrix of % values with push (ask dylan)\n",
    "covSer = df.cover.value_counts()\n",
    "au = covSer[0] / ( covSer[0] + covSer[1]  + 21)\n",
    "hf = covSer[1] / ( covSer[0] + covSer[1] + 21)\n",
    "af = covSer[2] / ( covSer[2] + covSer[3] + 16)\n",
    "hu = covSer[3] / ( covSer[3] + covSer[3] + 16)\n",
    "push = covSer[4] / (covSer[0] + covSer[1] + covSer[2] + covSer[3] + covSer[4])"
   ]
  },
  {
   "cell_type": "code",
   "execution_count": 25,
   "metadata": {},
   "outputs": [
    {
     "data": {
      "text/plain": [
       "away_underdog    0.500000\n",
       "home_favorite    0.467187\n",
       "away_favorite    0.478992\n",
       "home_underdog    0.477528\n",
       "push             0.037111\n",
       "dtype: float64"
      ]
     },
     "execution_count": 25,
     "metadata": {},
     "output_type": "execute_result"
    }
   ],
   "source": [
    "pd.Series([au,hf,af,hu,push], index=df.cover.value_counts().index)"
   ]
  },
  {
   "cell_type": "code",
   "execution_count": 26,
   "metadata": {},
   "outputs": [],
   "source": [
    "# not including pushes\n",
    "au = covSer[0] / ( covSer[0] + covSer[1])\n",
    "hf = covSer[1] / ( covSer[0] + covSer[1])\n",
    "af = covSer[2] / ( covSer[2] + covSer[3])\n",
    "hu = covSer[3] / ( covSer[3] + covSer[3])\n",
    "push = covSer[4] / (covSer[0] + covSer[1] + covSer[2] + covSer[3] + covSer[4])"
   ]
  },
  {
   "cell_type": "code",
   "execution_count": 27,
   "metadata": {},
   "outputs": [
    {
     "data": {
      "text/plain": [
       "away_underdog    0.516963\n",
       "home_favorite    0.483037\n",
       "away_favorite    0.501466\n",
       "home_underdog    0.500000\n",
       "push             0.037111\n",
       "dtype: float64"
      ]
     },
     "execution_count": 27,
     "metadata": {},
     "output_type": "execute_result"
    }
   ],
   "source": [
    "pd.Series([au,hf,af,hu,push], index=df.cover.value_counts().index)"
   ]
  },
  {
   "cell_type": "code",
   "execution_count": 28,
   "metadata": {},
   "outputs": [],
   "source": [
    "# is it worth it? long run % profit \n",
    "\n",
    "# lmao no"
   ]
  }
 ],
 "metadata": {
  "kernelspec": {
   "display_name": "Python 3",
   "language": "python",
   "name": "python3"
  },
  "language_info": {
   "codemirror_mode": {
    "name": "ipython",
    "version": 3
   },
   "file_extension": ".py",
   "mimetype": "text/x-python",
   "name": "python",
   "nbconvert_exporter": "python",
   "pygments_lexer": "ipython3",
   "version": "3.7.1"
  }
 },
 "nbformat": 4,
 "nbformat_minor": 2
}
