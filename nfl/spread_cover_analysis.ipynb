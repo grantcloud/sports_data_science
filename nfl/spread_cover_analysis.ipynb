{
 "cells": [
  {
   "cell_type": "markdown",
   "metadata": {},
   "source": [
    "# NFL Scores and Betting Data\n",
    "## Grant Cloud\n",
    "<p>Inspired by <i>Mathletics - Chapters 38 & 39</i>, this notebook aims to look at NFL spread cover rates depending on home/away and favorite/underdog since 2000.</p>"
   ]
  },
  {
   "cell_type": "markdown",
   "metadata": {},
   "source": [
    "imports"
   ]
  },
  {
   "cell_type": "code",
   "execution_count": 1,
   "metadata": {},
   "outputs": [],
   "source": [
    "import pandas as pd\n",
    "import numpy as np\n",
    "import seaborn as sns\n",
    "import matplotlib.pyplot as plt\n",
    "from helpers import vis_null"
   ]
  },
  {
   "cell_type": "markdown",
   "metadata": {},
   "source": [
    "load the data"
   ]
  },
  {
   "cell_type": "code",
   "execution_count": 2,
   "metadata": {},
   "outputs": [
    {
     "name": "stdout",
     "output_type": "stream",
     "text": [
      "4848 regular season games from 2000 through 2018\n"
     ]
    }
   ],
   "source": [
    "df = pd.read_csv('data/nfl_spread_covers.csv')\n",
    "print('{} regular season games from 2000 through 2018'.format(df.shape[0]))"
   ]
  },
  {
   "cell_type": "code",
   "execution_count": 3,
   "metadata": {},
   "outputs": [],
   "source": [
    "# helper function to calculate who covered in each game  \n",
    "def calc_cover(row):\n",
    "    if row.favorite == row.team_home:\n",
    "        diff = (row.score_home + row.spread_favorite) - row.score_away\n",
    "        if diff > 0:\n",
    "            return 'home_favorite'\n",
    "        elif diff < 0:\n",
    "            return 'away_underdog'\n",
    "        else:\n",
    "            return 'push'\n",
    "    elif row.favorite == row.team_away:\n",
    "        diff = row.score_home - (row.score_away + row.spread_favorite)\n",
    "        if diff > 0:\n",
    "            return 'home_underdog'\n",
    "        elif diff < 0:\n",
    "            return 'away_favorite'\n",
    "        else:\n",
    "            return 'push'"
   ]
  },
  {
   "cell_type": "markdown",
   "metadata": {},
   "source": [
    "creating a new column with the results of the spread by using the helper function <i>calc_cover</i>"
   ]
  },
  {
   "cell_type": "code",
   "execution_count": 4,
   "metadata": {},
   "outputs": [],
   "source": [
    "df['cover'] = df.apply(calc_cover, axis=1)"
   ]
  },
  {
   "cell_type": "markdown",
   "metadata": {},
   "source": [
    "<p>viewing the how many times each possible outcome has occurred</p>"
   ]
  },
  {
   "cell_type": "code",
   "execution_count": 5,
   "metadata": {},
   "outputs": [
    {
     "data": {
      "text/plain": [
       "away_underdog    1512\n",
       "home_favorite    1422\n",
       "away_favorite     738\n",
       "home_underdog     737\n",
       "push              141\n",
       "Name: cover, dtype: int64"
      ]
     },
     "execution_count": 5,
     "metadata": {},
     "output_type": "execute_result"
    }
   ],
   "source": [
    "covSer = df.cover.value_counts()\n",
    "covSer"
   ]
  },
  {
   "cell_type": "markdown",
   "metadata": {},
   "source": [
    "<p>calculating probabilities of each outcome occuring</p>"
   ]
  },
  {
   "cell_type": "code",
   "execution_count": 6,
   "metadata": {},
   "outputs": [
    {
     "data": {
      "text/plain": [
       "away_underdog    0.515337\n",
       "home_favorite    0.484663\n",
       "away_favorite    0.500339\n",
       "home_underdog    0.500000\n",
       "push             0.030989\n",
       "dtype: float64"
      ]
     },
     "execution_count": 6,
     "metadata": {},
     "output_type": "execute_result"
    }
   ],
   "source": [
    "au = covSer[0] / ( covSer[0] + covSer[1])\n",
    "hf = covSer[1] / ( covSer[0] + covSer[1])\n",
    "af = covSer[2] / ( covSer[2] + covSer[3])\n",
    "hu = covSer[3] / ( covSer[3] + covSer[3])\n",
    "push = covSer[4] / (covSer[0] + covSer[1] + covSer[2] + covSer[3] + covSer[4])\n",
    "pd.Series([au,hf,af,hu,push], index=df.cover.value_counts().index)"
   ]
  },
  {
   "cell_type": "markdown",
   "metadata": {},
   "source": [
    "### Analysis"
   ]
  },
  {
   "cell_type": "markdown",
   "metadata": {},
   "source": [
    "<p>We can see that since 2000, away underdogs have covered the spread 51.5337% of the time and home_favorites cover the spread 48.4663% of the time -- 90 more away underdogs have covered than home favorites since 2000 --. This shows that bookies shifting lines to take advantage of home favorite bias to improve their margins. These hit percentages differ from the percentages found in Levitt's sample analysis of NFL covers during the 2001 season (where the conclusion was only that there is favorite bias, and that home underdogs hit 57.7% of the time). "
   ]
  },
  {
   "cell_type": "markdown",
   "metadata": {},
   "source": [
    "looking only at more recent years (2015-2018)"
   ]
  },
  {
   "cell_type": "code",
   "execution_count": 7,
   "metadata": {},
   "outputs": [
    {
     "name": "stdout",
     "output_type": "stream",
     "text": [
      "1024 regular season games from 2015 through 2018\n"
     ]
    },
    {
     "data": {
      "text/plain": [
       "away_underdog    0.516963\n",
       "home_favorite    0.483037\n",
       "away_favorite    0.501466\n",
       "home_underdog    0.500000\n",
       "push             0.037111\n",
       "dtype: float64"
      ]
     },
     "execution_count": 7,
     "metadata": {},
     "output_type": "execute_result"
    }
   ],
   "source": [
    "df = df[df.schedule_season.astype('int') >= 2015]\n",
    "print('{} regular season games from 2015 through 2018'.format(df.shape[0]))\n",
    "covSer = df.cover.value_counts()\n",
    "au = covSer[0] / ( covSer[0] + covSer[1])\n",
    "hf = covSer[1] / ( covSer[0] + covSer[1])\n",
    "af = covSer[2] / ( covSer[2] + covSer[3])\n",
    "hu = covSer[3] / ( covSer[3] + covSer[3])\n",
    "push = covSer[4] / (covSer[0] + covSer[1] + covSer[2] + covSer[3] + covSer[4])\n",
    "pd.Series([au,hf,af,hu,push], index=df.cover.value_counts().index)"
   ]
  },
  {
   "cell_type": "markdown",
   "metadata": {},
   "source": [
    "the trend holds, bookies are taking advantage of home favorite bias"
   ]
  },
  {
   "cell_type": "markdown",
   "metadata": {},
   "source": [
    "### Should I bet away underdogs since they win > 50% of the time?\n",
    "<p>no. Assuming a standard book's 11-10 odds on the spread, you need to hit bets more than 52.4% of the time to be profitable (see <i>Mathletics - Chapter 38</i> to find out where the 52.4% came from). Since away underdogs only hit 51.6963% of the time, you would still lose money in the long haul only betting away underdogs</p>"
   ]
  },
  {
   "cell_type": "code",
   "execution_count": null,
   "metadata": {},
   "outputs": [],
   "source": []
  }
 ],
 "metadata": {
  "kernelspec": {
   "display_name": "Python 3",
   "language": "python",
   "name": "python3"
  },
  "language_info": {
   "codemirror_mode": {
    "name": "ipython",
    "version": 3
   },
   "file_extension": ".py",
   "mimetype": "text/x-python",
   "name": "python",
   "nbconvert_exporter": "python",
   "pygments_lexer": "ipython3",
   "version": "3.7.1"
  }
 },
 "nbformat": 4,
 "nbformat_minor": 2
}
